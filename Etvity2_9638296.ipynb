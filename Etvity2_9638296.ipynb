{
 "cells": [
  {
   "cell_type": "code",
   "execution_count": 17,
   "metadata": {},
   "outputs": [
    {
     "name": "stdout",
     "output_type": "stream",
     "text": [
      "Please enter Polynomials in the same format as e.g. 4x^2 where 2==The Exponent\n",
      "Enter Polynomial(s) here: 12x^2 + 12x^3 - 3x^501\n"
     ]
    }
   ],
   "source": [
    "print(\"Please enter Polynomials in the same format as e.g. 4x^2 where 2==The Exponent\")\n",
    "#Prompt to Enter Polynomial(s)\n",
    "\n",
    "var_plus = input(\"Enter Polynomial(s) here: \")\n",
    "poly_plus = list(map(str, var_plus.split())) #split function to seperate polynomials from operands\n",
    "terms = [poly_plus[i] for i in range(len(poly_plus)) if i % 2 == 0] #creates list of operands\n",
    "\n",
    "ops = [poly_plus[i] for i in range(len(poly_plus)) if i % 2 == 1]#creates list of polynomials\n",
    "ops.append(\" \") #appends a space to list for zipping purposes later\n",
    "\n",
    "#print(var_plus)\n",
    "#print(poly_plus)\n",
    "#print(terms)\n",
    "#print(ops)\n",
    "\n",
    "\n",
    "polys_list =[]\n",
    "for i in terms:\n",
    "    polys = list(map(int, i.split('x^')))#removes the x^ from items in list so exponenent and coefficient can be manipulated\n",
    "    polys_list.append(polys)\n",
    "#print(polys_list)\n",
    "\n",
    "# test polynomial 12x^2 + 12x^3 - 3x^501"
   ]
  },
  {
   "cell_type": "code",
   "execution_count": 18,
   "metadata": {},
   "outputs": [
    {
     "name": "stdout",
     "output_type": "stream",
     "text": [
      "The Derivative of the Polynomial: 12x^2 + 12x^3 - 3x^501 is\n",
      "24x + 36x^2 - 1503x^500\n"
     ]
    }
   ],
   "source": [
    "deriv_terms = []#creates list for derivatives of polynomials\n",
    "\n",
    "for items in polys_list:\n",
    "    coef, expon = items\n",
    "    #print(items)\n",
    "    if expon > 2:\n",
    "        #print(str(expon*coef) + \"x^\" + str(expon - 1))\n",
    "        deriv_terms.append(str(expon*coef) + \"x^\" + str(expon - 1))\n",
    "    else:\n",
    "        #print(str(expon*coef) + \"x\")\n",
    "        deriv_terms.append(str(expon*coef) + \"x\")\n",
    "\n",
    "#print(deriv_terms)\n",
    "deriv = [j for i in zip(deriv_terms,ops) for j in i]#combines all items in two lists to provide printout in format of input\n",
    "print(\"The Derivative of the Polynomial: \" + var_plus + \" is\")\n",
    "print(\" \".join(deriv).rstrip())\n"
   ]
  },
  {
   "cell_type": "code",
   "execution_count": null,
   "metadata": {},
   "outputs": [],
   "source": []
  }
 ],
 "metadata": {
  "kernelspec": {
   "display_name": "Python 3",
   "language": "python",
   "name": "python3"
  },
  "language_info": {
   "codemirror_mode": {
    "name": "ipython",
    "version": 3
   },
   "file_extension": ".py",
   "mimetype": "text/x-python",
   "name": "python",
   "nbconvert_exporter": "python",
   "pygments_lexer": "ipython3",
   "version": "3.6.5"
  }
 },
 "nbformat": 4,
 "nbformat_minor": 2
}
