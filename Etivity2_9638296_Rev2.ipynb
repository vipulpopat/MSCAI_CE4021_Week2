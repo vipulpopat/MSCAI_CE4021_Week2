{
 "cells": [
  {
   "cell_type": "code",
   "execution_count": 1,
   "metadata": {},
   "outputs": [],
   "source": [
    "def tok_poly(s):\n",
    "    \"\"\"Tokenise a string representing a polynomial\n",
    "    str -> tuple of lists of str\n",
    "    \n",
    "    receive: polynomial as a string\n",
    "    return : tuple of list of terms and list of operands\n",
    "    \n",
    "    Assume:\n",
    "    polynomial is well formed ... ax^b ...\n",
    "    Dummy operand appended to list of operands to equalise returned list lenghts\n",
    "    \n",
    "    Example:\n",
    "    tok_poly('12x^2 + 23x - 6x + 5') -> (['12x^2', '23x', '6x', '5'], ['+', '-', '+', ' '])\n",
    "    \"\"\"\n",
    "    \n",
    "    toks = s.split()\n",
    "    terms = [toks[i] for i in range(len(toks)) if i % 2 == 0]\n",
    "    ops = [toks[i] for i in range(len(toks)) if i % 2 == 1]\n",
    "    ops.append(' ')\n",
    "    \n",
    "    return (terms, ops)"
   ]
  },
  {
   "cell_type": "code",
   "execution_count": 2,
   "metadata": {},
   "outputs": [
    {
     "data": {
      "text/plain": [
       "(['26y^4', '32y^3', '12y^2', '23y', '6y', '5'], ['-', '+', '+', '-', '+', ' '])"
      ]
     },
     "execution_count": 2,
     "metadata": {},
     "output_type": "execute_result"
    }
   ],
   "source": [
    "tok_poly('26y^4 - 32y^3 + 12y^2 + 23y - 6y + 5')"
   ]
  },
  {
   "cell_type": "code",
   "execution_count": 3,
   "metadata": {},
   "outputs": [],
   "source": [
    "def build_poly(terms, ops):\n",
    "    \"\"\"build a polynomial string from a list of terms and a list of operands\n",
    "    tuple of lists of str -> str\n",
    "    \n",
    "    receive: list of terms and list of operands\n",
    "    return : polynomial as a string\n",
    "    \n",
    "    Assume:\n",
    "    terms and operands are well formed ... aX^b ...\n",
    "    \n",
    "    Example:\n",
    "    build_poly(['12x^2', '23x', '6x', '5'], ['+', '-', '+']) -> '12x^2 + 23x - 6x + 5' \n",
    "    \"\"\"\n",
    "    \n",
    "    ops.append(' ')\n",
    "    terms_ops = list(zip(terms, ops))\n",
    "    terms_ops_list = [e for t in terms_ops for e in t]\n",
    "    poly = ' '.join(terms_ops_list)\n",
    "      \n",
    "    return poly.rstrip()"
   ]
  },
  {
   "cell_type": "code",
   "execution_count": 4,
   "metadata": {},
   "outputs": [
    {
     "data": {
      "text/plain": [
       "'26y^4 - 32y^3 + 12y^2 + 23y - 6y + 5'"
      ]
     },
     "execution_count": 4,
     "metadata": {},
     "output_type": "execute_result"
    }
   ],
   "source": [
    "build_poly(['26y^4', '32y^3', '12y^2', '23y', '6y', '5'], ['-', '+', '+', '-', '+', ' '])"
   ]
  },
  {
   "cell_type": "code",
   "execution_count": 5,
   "metadata": {},
   "outputs": [],
   "source": [
    "def deriv_poly(s):\n",
    "    \"\"\"find the derivative of a polynomial\n",
    "    str -> str\n",
    "    \n",
    "    receive: polynomial as a string\n",
    "    return : derivative of the polynomial as a string\n",
    "    \n",
    "    Assume:\n",
    "    polynomial is well formed. All terms in form aX^b\n",
    "    \n",
    "    Example:\n",
    "    deriv_poly('12x^3 + 23x^2') -> '36x^2 + 46x'\n",
    "    deriv_poly('12x^3 + 23x^2 - 6x^1 + 5x^0') -> '36x^2 + 46x - 6 + 0'\n",
    "    \"\"\"\n",
    "    \n",
    "    terms, ops = tok_poly(s)\n",
    "    \n",
    "    # parse term <int><var><^><int>\n",
    "    # valid terms:\n",
    "    #  x     : <var>\n",
    "    #  2x    : <int><var>\n",
    "    #  3x^2  : <int><var><^><int>\n",
    "    #  9     : <int>\n",
    "    #  x^4   : <var><^><int>\n",
    "    \n",
    "    # extract integers from each polynomial term (assume: term is of form a.x^.y)\n",
    "    poly_term_ints = []\n",
    "    for i in terms:\n",
    "        term_ints = list(map(int, i.split('x^')))\n",
    "        poly_term_ints.append(term_ints)\n",
    "    \n",
    "    # derivate of each polynomial term\n",
    "    deriv_terms = []\n",
    "    for t in poly_term_ints:\n",
    "        coef, exp = t\n",
    "        if exp == 0:\n",
    "            deriv_terms.append(str(0))\n",
    "        elif exp == 1:\n",
    "            deriv_terms.append(str(coef))\n",
    "        elif exp == 2:\n",
    "            deriv_terms.append(str(coef*2) + 'x')\n",
    "        elif exp > 2:\n",
    "            deriv_terms.append(str(coef*exp) + 'x^' + str(exp-1))\n",
    "        else:\n",
    "            deriv_terms.append('?')\n",
    "            \n",
    "    return build_poly(deriv_terms, ops)   "
   ]
  },
  {
   "cell_type": "code",
   "execution_count": 7,
   "metadata": {},
   "outputs": [
    {
     "data": {
      "text/plain": [
       "'20x^3 + 60x^4 - 6 + 0'"
      ]
     },
     "execution_count": 7,
     "metadata": {},
     "output_type": "execute_result"
    }
   ],
   "source": [
    "deriv_poly('5x^4 + 12x^5 - 6x^1 + 5x^0')"
   ]
  },
  {
   "cell_type": "code",
   "execution_count": null,
   "metadata": {},
   "outputs": [],
   "source": []
  },
  {
   "cell_type": "code",
   "execution_count": null,
   "metadata": {},
   "outputs": [],
   "source": []
  }
 ],
 "metadata": {
  "kernelspec": {
   "display_name": "Python 3",
   "language": "python",
   "name": "python3"
  },
  "language_info": {
   "codemirror_mode": {
    "name": "ipython",
    "version": 3
   },
   "file_extension": ".py",
   "mimetype": "text/x-python",
   "name": "python",
   "nbconvert_exporter": "python",
   "pygments_lexer": "ipython3",
   "version": "3.6.5"
  }
 },
 "nbformat": 4,
 "nbformat_minor": 2
}
