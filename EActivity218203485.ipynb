{
 "cells": [
  {
   "cell_type": "markdown",
   "metadata": {},
   "source": [
    "Student Id: 18203485\n",
    "Student Name : Fergus Mc Hale"
   ]
  },
  {
   "cell_type": "markdown",
   "metadata": {},
   "source": [
    "Steps:\n",
    "\n",
    "Power Rule Function 3x^2  (To be called within loop of tuples )\n",
    "input_array = For each item in array\n",
    "Take number put into new variable (mainpower)\n",
    "multiply main power ie. 3 by main power - 1 ie. 2 append x main power - 1 where not equal to zero(constant rule)\n",
    "return values\n",
    "\n",
    "Chain rule Function (x + 8)^2 \n",
    "copy array (x + 8) into two seperate arrays\n",
    "use array multiplication similar to link https://stackoverflow.com/questions/10271484/how-to-perform-element-wise-multiplication-of-two-lists-in-python\n",
    "call power rule on each function to get the next iteration of it. where not equal to zero(constant rule)\n",
    "result_array_index = append to new array per iteration at index\n",
    "\n",
    "\n",
    "For fractions see : https://docs.python.org/2/library/fractions.html"
   ]
  },
  {
   "cell_type": "code",
   "execution_count": 18,
   "metadata": {},
   "outputs": [
    {
     "name": "stdout",
     "output_type": "stream",
     "text": [
      "[0, 0]\n",
      "0x^0\n",
      "[6, 1]\n",
      "6x^1\n",
      "[250500, 499]\n",
      "250500x^499\n",
      "[42, 5]\n",
      "42x^5\n",
      "[62249751000, 497]\n",
      "62249751000x^497\n"
     ]
    }
   ],
   "source": [
    "def power_rule(value, power):\n",
    "    blank_values = [0] * 2\n",
    "    if power == 0:\n",
    "        return blank_values\n",
    "    if power != 0:\n",
    "        decrease_power = power - 1\n",
    "        multiply_power = value * power\n",
    "        if decrease_power > 0:\n",
    "            calculated_derivative = [multiply_power, decrease_power]\n",
    "        elif decrease_power == 0:\n",
    "            calculated_derivative = [multiply_power, 0]\n",
    "    return calculated_derivative\n",
    "\n",
    "\n",
    "def print_power_rule(result_set):\n",
    "    if len(result) == 2:\n",
    "        multiply_power = result_set[0]\n",
    "        decrease_power = result_set[1]\n",
    "        print_line = '' + multiply_power.__str__() + 'x^' + decrease_power.__str__() + ''\n",
    "    return print_line\n",
    "\n",
    "result_two = power_rule(0, 0)\n",
    "print(result_two)\n",
    "printed_result_two = print_power_rule(result_two)\n",
    "print(printed_result_two)\n",
    "result = power_rule(3, 2)\n",
    "print(result)\n",
    "printed_result = print_power_rule(result)\n",
    "print(printed_result)\n",
    "result_three = power_rule(501, 500)\n",
    "print(result_three)\n",
    "printed_result_three = print_power_rule(result_three)\n",
    "print(printed_result_three)\n",
    "result_four = power_rule(7, 6)\n",
    "print(result_four)\n",
    "printed_result_four = print_power_rule(result_four)\n",
    "print(printed_result_four)\n",
    "result_five = power_rule(124999500, 498)\n",
    "print(result_five)\n",
    "printed_result_five = print_power_rule(result_five)\n",
    "print(printed_result_five)"
   ]
  },
  {
   "cell_type": "code",
   "execution_count": null,
   "metadata": {},
   "outputs": [],
   "source": []
  }
 ],
 "metadata": {
  "kernelspec": {
   "display_name": "Python 3",
   "language": "python",
   "name": "python3"
  },
  "language_info": {
   "codemirror_mode": {
    "name": "ipython",
    "version": 3
   },
   "file_extension": ".py",
   "mimetype": "text/x-python",
   "name": "python",
   "nbconvert_exporter": "python",
   "pygments_lexer": "ipython3",
   "version": "3.6.5"
  }
 },
 "nbformat": 4,
 "nbformat_minor": 2
}
