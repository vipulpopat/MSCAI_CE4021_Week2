{
 "cells": [
  {
   "cell_type": "markdown",
   "metadata": {},
   "source": [
    "Student Id: 18203485\n",
    "Student Name : Fergus Mc Hale"
   ]
  },
  {
   "cell_type": "markdown",
   "metadata": {},
   "source": [
    "Steps:\n",
    "\n",
    "Power Rule Function 3x^2  (To be called within loop of tuples )\n",
    "input_array = For each item in array\n",
    "Take number put into new variable (mainpower)\n",
    "multiply main power ie. 3 by main power - 1 ie. 2 append x main power - 1 where not equal to zero(constant rule)\n",
    "return values\n",
    "\n",
    "Chain rule Function (x + 8)^2 \n",
    "copy array (x + 8) into two seperate arrays\n",
    "use array multiplication similar to link https://stackoverflow.com/questions/10271484/how-to-perform-element-wise-multiplication-of-two-lists-in-python\n",
    "call power rule on each function to get the next iteration of it. where not equal to zero(constant rule)\n",
    "result_array_index = append to new array per iteration at index\n",
    "\n",
    "\n",
    "For fractions see : https://docs.python.org/2/library/fractions.html"
   ]
  },
  {
   "cell_type": "code",
   "execution_count": 3,
   "metadata": {},
   "outputs": [
    {
     "name": "stderr",
     "output_type": "stream",
     "text": [
      "....."
     ]
    },
    {
     "name": "stdout",
     "output_type": "stream",
     "text": [
      "(0, 0)\n",
      "0x^0\n",
      "(1, 0)\n",
      "1x^0\n",
      "(5, 0)\n",
      "5x^0\n",
      "(6, 1)\n",
      "6x^1\n",
      "(8, 3)\n",
      "8x^3\n",
      "(435, 86)\n",
      "435x^86\n"
     ]
    },
    {
     "name": "stderr",
     "output_type": "stream",
     "text": [
      "\n",
      "----------------------------------------------------------------------\n",
      "Ran 5 tests in 0.006s\n",
      "\n",
      "OK\n"
     ]
    }
   ],
   "source": [
    "import unittest\n",
    "\n",
    "class derivative_service:\n",
    "    \n",
    "    polynomial_list = []\n",
    "    \n",
    "    def __init__(self, polynomial_list=[]):\n",
    "        self.polynomial_list = polynomial_list\n",
    "        \n",
    "    def find_derivative(self):\n",
    "        if len(self.polynomial_list) == 0:\n",
    "            raise ValueError('Please provide a valid polynomial list')\n",
    "            \n",
    "        result_list = []\n",
    "        try:\n",
    "            for (value, power) in self.polynomial_list:\n",
    "                result_list.append(self.power_rule(value,power))\n",
    "            return result_list\n",
    "        except Exception as e:\n",
    "            print(e)\n",
    "            \n",
    "            \n",
    "    def power_rule(self,value, power):\n",
    "        #Calculates the derivative of a term by applying the Power Rule, i.e. d(a*x^n )/dx = n*a(x^n-1)\n",
    "        if power == 0:\n",
    "            #constant only\n",
    "            return (0,0)\n",
    "        elif power == 1:\n",
    "            #ax -> returns a\n",
    "            return (value, 0)\n",
    "        else:\n",
    "            return (value * power, power -1)\n",
    "    \n",
    "        \n",
    "    def print_power_rule(self,result_set):\n",
    "        if len(result_set) == 2:\n",
    "            multiply_power = result_set[0]\n",
    "            decrease_power = result_set[1]\n",
    "            print_line = '' + multiply_power.__str__() + 'x^' + decrease_power.__str__() + ''\n",
    "        return print_line\n",
    "\n",
    "\n",
    "    def test_power_rule(self):\n",
    "        if len(self.polynomial_list) > 0:\n",
    "            for (value, power) in self.polynomial_list:\n",
    "                print(str(self.power_rule(value, power)) + '\\n' + self.print_power_rule(self.power_rule(value, power)))\n",
    "\n",
    "test_polynomial_list = [(3, 0),(1, 1),(5, 1),(3, 2),(2, 4),(5, 87)]\n",
    "ds = derivative_service(test_polynomial_list)\n",
    "ds.test_power_rule()\n",
    "\n",
    "\n",
    "class derivative_service_tests(unittest.TestCase):\n",
    "    def test_find_derivative_of_n(self):\n",
    "        test_polynomial_list = [(3, 0)]\n",
    "        actual_derivative_one = derivative_service(test_polynomial_list).find_derivative()\n",
    "        self.assertEqual(actual_derivative_one, [(0, 0)])\n",
    "        test_polynomial_list = [(1, 1)]\n",
    "        actual_derivative_two = derivative_service(test_polynomial_list).find_derivative()\n",
    "        self.assertEqual(actual_derivative_two, [(1, 0)])\n",
    "        test_polynomial_list = [(5, 1)]\n",
    "        actual_derivative_three = derivative_service(test_polynomial_list).find_derivative()\n",
    "        self.assertEqual(actual_derivative_three, [(5, 0)])\n",
    "        test_polynomial_list = [(3, 2)]\n",
    "        actual_derivative_four = derivative_service(test_polynomial_list).find_derivative()\n",
    "        self.assertEqual(actual_derivative_four, [(6, 1)])\n",
    "        test_polynomial_list = [(2, 4)]\n",
    "        actual_derivative_five = derivative_service(test_polynomial_list).find_derivative()\n",
    "        self.assertEqual(actual_derivative_five, [(8, 3)])\n",
    "        test_polynomial_list = [(5, 87)]\n",
    "        actual_derivative_six = derivative_service(test_polynomial_list).find_derivative()\n",
    "        self.assertEqual(actual_derivative_six, [(435, 86)])\n",
    "\n",
    "    def test_find_derivative_exercise_one(self):\n",
    "        test_polynomial_list = [(3, 0)]\n",
    "        actual_derivative = derivative_service(test_polynomial_list).find_derivative()\n",
    "        self.assertEqual(actual_derivative, [(0, 0)])\n",
    "\n",
    "    def test_find_derivative_exercise_two(self):\n",
    "        test_polynomial_list = [(1, 1)]\n",
    "        actual_derivative = derivative_service(test_polynomial_list).find_derivative()\n",
    "        self.assertEqual(actual_derivative, [(1, 0)])\n",
    "\n",
    "    def test_find_derivative_exercise_three(self):\n",
    "        test_polynomial_list = [(3, 2)]\n",
    "        actual_derivative = derivative_service(test_polynomial_list).find_derivative()\n",
    "        self.assertEqual(actual_derivative, [(6, 1)])\n",
    "\n",
    "    def test_find_derivative_exercise_four(self):\n",
    "        test_polynomial_list = [(1, 2), (16, 1), (64, 0)]\n",
    "        actual_derivative = derivative_service(test_polynomial_list).find_derivative()\n",
    "        self.assertEqual(actual_derivative, [(2, 1), (16, 0), (0, 0)])\n",
    "        \n",
    "if __name__ == '__main__':\n",
    "    unittest.main(argv=['first-arg-is-ignored'], exit=False)\n"
   ]
  }
 ],
 "metadata": {
  "kernelspec": {
   "display_name": "Python 3",
   "language": "python",
   "name": "python3"
  },
  "language_info": {
   "codemirror_mode": {
    "name": "ipython",
    "version": 3
   },
   "file_extension": ".py",
   "mimetype": "text/x-python",
   "name": "python",
   "nbconvert_exporter": "python",
   "pygments_lexer": "ipython3",
   "version": "3.6.5"
  }
 },
 "nbformat": 4,
 "nbformat_minor": 2
}
