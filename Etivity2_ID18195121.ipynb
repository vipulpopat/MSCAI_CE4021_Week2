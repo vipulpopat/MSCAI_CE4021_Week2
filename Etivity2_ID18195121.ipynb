{
 "cells": [
  {
   "cell_type": "raw",
   "metadata": {},
   "source": [
    "# Student Name: Vipul Popat\n",
    "# Student ID: 18195121\n",
    "\n",
    "# Problem Statement: \n",
    "# Calculate the derivatives of the functions provided in Derivatives.docx.\n",
    "# - Verify your results by writing one or more Python functions that operate on \n",
    "#   polynomial functions with one variable. \n",
    "# Please use the template Python notebook available in your gitlab repository (Week2 project).\n",
    "# Hint: You can represent a polynomial function using only its coefficients. \n",
    "#       For example, you could decide to represent 5x3+7x2+3x+6 as [5,7,3,6] \n",
    "#       with the exponent of x implied by the position in the list. "
   ]
  },
  {
   "cell_type": "code",
   "execution_count": 1,
   "metadata": {
    "collapsed": false
   },
   "outputs": [
    {
     "name": "stderr",
     "output_type": "stream",
     "text": [
      "......."
     ]
    },
    {
     "name": "stdout",
     "output_type": "stream",
     "text": [
      "[(16, 0), (2, 1)]\n",
      "(x,y) Either of x or y as to be an Integer : (0.5, 8)\n",
      "Every tuple in argument should be (x,y) i.e. having 2 parameters : (2, 1, 1)\n",
      "Some of the powers i.e. y in List of (x,y) are duplicate\n",
      "(x,y) Either of x or y as to be an Integer : (2, 0.5)\n",
      "[(4, 0), (15, 2)]\n"
     ]
    },
    {
     "name": "stderr",
     "output_type": "stream",
     "text": [
      "\n",
      "----------------------------------------------------------------------\n",
      "Ran 7 tests in 0.031s\n",
      "\n",
      "OK\n"
     ]
    }
   ],
   "source": [
    "\"\"\"\n",
    "The parameters to this exercise is a list of tuples where each tuple is\n",
    "signifying a prefix and a exponent e.g. (6*x^4) is represented as (6,4) i.e.\n",
    "(x,y) Hence it would be easy to represent a nth grade polynomial very easily\n",
    "by this solution\n",
    "\"\"\"\n",
    "def derivative(poly):\n",
    "    validate_polynomial_and_sort(poly)\n",
    "    poly = filter(lambda x : x[1] != 0, poly)\n",
    "    poly = list(map(lambda x : (x[0]*x[1], x[1]-1), poly))\n",
    "    insert_0_0(poly)\n",
    "    #print(poly)\n",
    "    return poly\n",
    "\n",
    "\"\"\"\n",
    "this method inserts a 0 term to the derivate as pointed out by MARK MURNANE\n",
    "to the polynomial if the derivate dosent have term with power 0\n",
    "\"\"\"\n",
    "def insert_0_0(poly) :\n",
    "\n",
    "    if len(poly) == 0 :\n",
    "        return poly.append((0,0))\n",
    "    \n",
    "    # adding the 0 term to the derivate as pointed out by MARK MURNANE\n",
    "    term_with_power_0 = list(filter(lambda x : x[1] == 0, poly))\n",
    "    \n",
    "    if len(term_with_power_0) != 0 :\n",
    "        return poly\n",
    "    \n",
    "    for i, tup in enumerate(poly) :\n",
    "        if tup[0] > 0 :\n",
    "            poly.insert(i, (0,0))\n",
    "            break\n",
    "    return poly\n",
    "\n",
    "\"\"\"\n",
    "This function does the following\n",
    "1) Checks if the powers in the tuples are in duplicates i.e. whether a polynomial\n",
    "   contains (2,3) & (5,3) in teh same polynomial\n",
    "2) Checks whether every tuple in the polynomial has only 2 elements\n",
    "3) Checks whether the coefficient and the power in a tuple of a polynomial \n",
    "   term are only integer values\n",
    "\"\"\"\n",
    "def validate_polynomial_and_sort(poly) :\n",
    "        # validate args or raise an exception\n",
    "    set_of_powers = set([x[1] for x in poly])\n",
    "    if len(set_of_powers) != len(poly) :\n",
    "        raise Exception(\"Some of the powers i.e. y in List of (x,y) are duplicate\")\n",
    "    for arg in poly :\n",
    "        if len(arg) != 2 :\n",
    "            raise Exception(\"Every tuple in argument should be (x,y) i.e. having 2 parameters : \" + str(arg))\n",
    "        for arg1 in arg :\n",
    "            if not isinstance(arg1, int) :\n",
    "                raise Exception(\"(x,y) Either of x or y as to be an Integer : \" + str(arg))\n",
    "    # return the tuples sorted in ascending order of powers\n",
    "    return poly.sort(key=lambda tup: tup[1])\n",
    "    \n",
    "\n",
    "import unittest\n",
    "\n",
    "class TestEtivity1(unittest.TestCase):\n",
    "\n",
    "    def test_derivative1(self):\n",
    "        input = [(2,3)]\n",
    "        expected_result = [(0,0),(6,2)]\n",
    "        output = derivative(input)\n",
    "        assert(len(output) == 2)\n",
    "        self.assertListEqual(output, expected_result, \"Failed Result\")\n",
    "\n",
    "    def test_derivative2(self):\n",
    "        input = [(16,0), (16,1), (1,2)]\n",
    "        expected_result = [(16,0), (2,1)]\n",
    "        output = derivative(input)\n",
    "        print(output)\n",
    "        assert(len(output) == 2)\n",
    "        self.assertListEqual(output, expected_result, \"Failed Result\")\n",
    "\n",
    "    def test_derivative3_not_integer(self):\n",
    "        try:\n",
    "            input = [(1,3), (.5,8)]\n",
    "            derivative(input)\n",
    "            self.fail(\"conditions not met\")\n",
    "        except Exception as exception:\n",
    "            print(str(exception))\n",
    "            assert True\n",
    "\n",
    "    def test_derivative4_where_power_fraction(self):\n",
    "        try:\n",
    "            input = [(1,3), (2,1/2)]\n",
    "            derivative(input)\n",
    "            self.fail(\"conditions not met\")\n",
    "        except Exception as exception:\n",
    "            print(str(exception))\n",
    "            assert True\n",
    "\n",
    "    def test_derivative4_where_duplicate_powers(self):\n",
    "        try:\n",
    "            input = [(1,3), (2,3)]\n",
    "            derivative(input)\n",
    "            self.fail(\"conditions not met\")\n",
    "        except Exception as exception:\n",
    "            print(str(exception))\n",
    "            assert True\n",
    "\n",
    "    def test_derivative4_where_args_unequal_length(self):\n",
    "        try:\n",
    "            input = [(1,3), (2,1,1)]\n",
    "            derivative(input)\n",
    "            self.fail(\"conditions not met\")\n",
    "        except Exception as exception:\n",
    "            print(str(exception))\n",
    "            assert True\n",
    "\n",
    "    def test_derivative1_with_wrongly_sorted_args(self):\n",
    "        input = [(2,3), (5,1), (7,6), (4,0)]\n",
    "        expected_result = [(5,0),(6,2),(42,5)]\n",
    "        output = derivative(input)\n",
    "        assert(len(output) == 3)\n",
    "        self.assertListEqual(output, expected_result, \"Failed Result\")\n",
    "\n",
    "\n",
    "if __name__ == '__main__':\n",
    "    unittest.main(argv=['first-arg-is-ignored'], exit=False)\n",
    "\n",
    "polytest = [(4,0), (4,1), (5,3)]\n",
    "result = derivative(polytest)\n",
    "print(result)\n"
   ]
  },
  {
   "cell_type": "code",
   "execution_count": 2,
   "metadata": {
    "collapsed": false
   },
   "outputs": [
    {
     "data": {
      "text/plain": [
       "[(2, 0), (12, 2), (20, 3)]"
      ]
     },
     "execution_count": 2,
     "metadata": {},
     "output_type": "execute_result"
    }
   ],
   "source": [
    "derivative([(5,4),(4,3),(2,1),(5,0)])"
   ]
  },
  {
   "cell_type": "code",
   "execution_count": 3,
   "metadata": {
    "collapsed": false
   },
   "outputs": [
    {
     "data": {
      "text/plain": [
       "[(0, 0), (4, 1), (15, 2), (100, 3)]"
      ]
     },
     "execution_count": 3,
     "metadata": {},
     "output_type": "execute_result"
    }
   ],
   "source": [
    "derivative([(25,4),(5,3),(2,2)])"
   ]
  },
  {
   "cell_type": "code",
   "execution_count": 4,
   "metadata": {
    "collapsed": false
   },
   "outputs": [
    {
     "data": {
      "text/plain": [
       "[(-4, -3), (-7, -2), (0, 0), (100, 3)]"
      ]
     },
     "execution_count": 4,
     "metadata": {},
     "output_type": "execute_result"
    }
   ],
   "source": [
    "derivative([(25,4),(7,-1),(2,-2)])"
   ]
  },
  {
   "cell_type": "code",
   "execution_count": 5,
   "metadata": {
    "collapsed": false
   },
   "outputs": [
    {
     "data": {
      "text/plain": [
       "[(0, 0)]"
      ]
     },
     "execution_count": 5,
     "metadata": {},
     "output_type": "execute_result"
    }
   ],
   "source": [
    "derivative([(16,0)])"
   ]
  },
  {
   "cell_type": "code",
   "execution_count": 6,
   "metadata": {
    "collapsed": false
   },
   "outputs": [
    {
     "data": {
      "text/plain": [
       "[(-4, -3), (-7, -2), (0, 0), (100, 3)]"
      ]
     },
     "execution_count": 6,
     "metadata": {},
     "output_type": "execute_result"
    }
   ],
   "source": [
    "derivative([(25,4),(7,-1),(2,-2), (5,0)])"
   ]
  },
  {
   "cell_type": "code",
   "execution_count": null,
   "metadata": {
    "collapsed": true
   },
   "outputs": [],
   "source": []
  }
 ],
 "metadata": {
  "kernelspec": {
   "display_name": "Python 3.6",
   "language": "python",
   "name": "python3.6"
  },
  "language_info": {
   "codemirror_mode": {
    "name": "ipython",
    "version": 3
   },
   "file_extension": ".py",
   "mimetype": "text/x-python",
   "name": "python",
   "nbconvert_exporter": "python",
   "pygments_lexer": "ipython3",
   "version": "3.6.6"
  }
 },
 "nbformat": 4,
 "nbformat_minor": 0
}
