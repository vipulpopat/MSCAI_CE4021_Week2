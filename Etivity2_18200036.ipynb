{
 "cells": [
  {
   "cell_type": "markdown",
   "metadata": {},
   "source": [
    "#Student Name: Brian Parle\n",
    "#Student ID:   18200036"
   ]
  },
  {
   "cell_type": "code",
   "execution_count": null,
   "metadata": {},
   "outputs": [],
   "source": [
    "# Problem Statement: \n",
    "# Calculate the derivatives of the functions provided in Derivatives.docx.\n",
    "# - Verify your results by writing one or more Python functions that operate on \n",
    "#   polynomial functions with one variable. \n",
    "# Please use the template Python notebook available in your gitlab repository (Week2 project).\n",
    "# Hint: You can represent a polynomial function using only its coefficients. \n",
    "#       For example, you could decide to represent 5x3+7x2+3x+6 as [5,7,3,6] \n",
    "#       with the exponent of x implied by the position in the list. \n",
    "\n",
    "# Approach:\n",
    "# Using Test Driven Development, incrementally build out the solution to ensure additional test cases pass\n",
    "\n",
    "#Step 1: Handle the case where a polynomial element is a constant(numerical only) - derivative is 0\n",
    "\n",
    "def polynomial_derivative(formula):\n",
    "    if type(formula) == \"str\":\n",
    "        return \"0\"\n",
    "\n",
    "# Test Functions\n",
    "def test_derivative_of_constant():\n",
    "    assert polynomial_derivative(\"3\") == \"0\""
   ]
  }
 ],
 "metadata": {
  "kernelspec": {
   "display_name": "Python 3",
   "language": "python",
   "name": "python3"
  },
  "language_info": {
   "codemirror_mode": {
    "name": "ipython",
    "version": 3
   },
   "file_extension": ".py",
   "mimetype": "text/x-python",
   "name": "python",
   "nbconvert_exporter": "python",
   "pygments_lexer": "ipython3",
   "version": "3.6.5"
  }
 },
 "nbformat": 4,
 "nbformat_minor": 1
}
