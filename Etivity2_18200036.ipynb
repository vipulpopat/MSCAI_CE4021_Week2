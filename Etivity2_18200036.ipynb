{
 "cells": [
  {
   "cell_type": "markdown",
   "metadata": {},
   "source": [
    "#Student Name: Brian Parle\n",
    "#Student ID:   18200036"
   ]
  },
  {
   "cell_type": "code",
   "execution_count": 17,
   "metadata": {},
   "outputs": [],
   "source": [
    "# Problem Statement: \n",
    "# Calculate the derivatives of the functions provided in Derivatives.docx.\n",
    "# - Verify your results by writing one or more Python functions that operate on \n",
    "#   polynomial functions with one variable. \n",
    "# Please use the template Python notebook available in your gitlab repository (Week2 project).\n",
    "# Hint: You can represent a polynomial function using only its coefficients. \n",
    "#       For example, you could decide to represent 5x3+7x2+3x+6 as [5,7,3,6] \n",
    "#       with the exponent of x implied by the position in the list. \n",
    "\n",
    "# Approach:\n",
    "# Using Test Driven Development, incrementally build out the solution to ensure additional test cases pass\n",
    "\n",
    "#Step 1: Handle the case \"a\", where 'a' is a constant(numerical only) - derivative is 0\n",
    "#Step 2: Handle the case \"ax^n\", where x is raised to the power n. result = 'nax^n-1'\n",
    "#Step 3: Handle the case \"ax^n\", where x is a negative power. x=x^n where n=1, and the dx = a. \n",
    "#.       Code requires refactoring to achieve this by using a tuple to represent \"a\" and \"n\"\n",
    "\n",
    "def polynomial_derivative(constant, power):\n",
    "    \"\"\"Calculate deriviative of a single polynomial expression\n",
    "       Input: the constant coefficient and the power of x i.e. ax^n (a>0, n>=0)\n",
    "       Output: a tuple with the constant and coefficient of d/dx\n",
    "    \"\"\"\n",
    "    if power==0:\n",
    "        #constant only\n",
    "        return (0,0)\n",
    "    elif power==1:\n",
    "        #ax -> returns a\n",
    "        return (constant, 0)\n",
    "    else:\n",
    "        return (constant * power, power -1)    \n",
    "    \n",
    "# Test Functions\n",
    "def test_derivative_power_of_n():\n",
    "    assert polynomial_derivative(3,0) == (0,0)\n",
    "    assert polynomial_derivative(1,1) == (1,0)\n",
    "    assert polynomial_derivative(5,1) == (5,0)\n",
    "    assert polynomial_derivative(3,2) == (6,1)\n",
    "    assert polynomial_derivative(2,4) == (8,3)\n",
    "    assert polynomial_derivative(5,87) == (435,86)\n",
    "    \n",
    "def tests():\n",
    "    test_derivative_power_of_n()\n",
    "    \n",
    "#run tests\n",
    "tests()"
   ]
  },
  {
   "cell_type": "code",
   "execution_count": null,
   "metadata": {},
   "outputs": [],
   "source": []
  }
 ],
 "metadata": {
  "kernelspec": {
   "display_name": "Python 3",
   "language": "python",
   "name": "python3"
  },
  "language_info": {
   "codemirror_mode": {
    "name": "ipython",
    "version": 3
   },
   "file_extension": ".py",
   "mimetype": "text/x-python",
   "name": "python",
   "nbconvert_exporter": "python",
   "pygments_lexer": "ipython3",
   "version": "3.6.5"
  }
 },
 "nbformat": 4,
 "nbformat_minor": 1
}
