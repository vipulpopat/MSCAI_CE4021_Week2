{
 "cells": [
  {
   "cell_type": "markdown",
   "metadata": {},
   "source": [
    "#Student Name: Brian Parle\n",
    "#Student ID:   18200036"
   ]
  },
  {
   "cell_type": "code",
   "execution_count": 55,
   "metadata": {},
   "outputs": [
    {
     "name": "stderr",
     "output_type": "stream",
     "text": [
      ".....\n",
      "----------------------------------------------------------------------\n",
      "Ran 5 tests in 0.004s\n",
      "\n",
      "OK\n"
     ]
    }
   ],
   "source": [
    "# Problem Statement: \n",
    "# Calculate the derivatives of the functions provided in Derivatives.docx.\n",
    "# - Verify your results by writing one or more Python functions that operate on \n",
    "#   polynomial functions with one variable. \n",
    "# Please use the template Python notebook available in your gitlab repository (Week2 project).\n",
    "# Hint: You can represent a polynomial function using only its coefficients. \n",
    "#       For example, you could decide to represent 5x3+7x2+3x+6 as [5,7,3,6] \n",
    "#       with the exponent of x implied by the position in the list. \n",
    "\n",
    "# Approach:\n",
    "# Using Test Driven Development, incrementally build out the solution to ensure additional test cases pass\n",
    "\n",
    "#Step 1: Handle the case \"a\", where 'a' is a constant(numerical only) - derivative is 0\n",
    "#Step 2: Handle the case \"ax^n\", where x is raised to the power n. result = 'nax^n-1'\n",
    "#Step 3: Add the ability to handle a full equation - use a list of tuples where each list \n",
    "#        entry is a constant/power pair.\n",
    "#.       Problem here is how to assert two lists are equal \n",
    "#        - I eventually used a solution using unittest assertEqual\n",
    "#.         (some of the setup for using unittest I got from Cormac Lavery's submission)\n",
    "# Advantage with my solution is that exponent is not dependent on the position in the list\n",
    "# i.e. I can process in any order: 3x^2 + 6x^3 or \n",
    "\n",
    "def polynomial_term_derivative(constant, power):\n",
    "    \"\"\"Calculate deriviative of a single polynomial expression\n",
    "       Input: the constant coefficient and the power of x i.e. ax^n (a>0, n>=0)\n",
    "       Output: a tuple with the constant and coefficient of d/dx\n",
    "    \"\"\"\n",
    "    if power==0:\n",
    "        #constant only\n",
    "        return (0,0)\n",
    "    elif power==1:\n",
    "        #ax -> returns a\n",
    "        return (constant, 0)\n",
    "    else:\n",
    "        return (constant * power, power -1)    \n",
    "    \n",
    "def polynomial_equation_derivative(equation_list):\n",
    "    \"\"\"Accept a list of polynomial terms and calculate the derivative of each term\n",
    "    \"\"\"\n",
    "    derivative = []\n",
    "    term = (0,0)\n",
    "    for (term_constant, term_power) in equation_list:\n",
    "        term = polynomial_term_derivative(term_constant,term_power)\n",
    "        derivative.append (term)\n",
    "    return derivative    \n",
    "    \n",
    "# Test Functions\n",
    "import unittest\n",
    "\n",
    "class TestEtivity2(unittest.TestCase):\n",
    "\n",
    "    def test_derivative_power_of_n(self):\n",
    "        self.assertEqual(polynomial_term_derivative(3,0),(0,0))\n",
    "        self.assertEqual(polynomial_term_derivative(1,1),(1,0))\n",
    "        self.assertEqual(polynomial_term_derivative(5,1),(5,0))\n",
    "        self.assertEqual(polynomial_term_derivative(3,2),(6,1))\n",
    "        self.assertEqual(polynomial_term_derivative(2,4),(8,3))\n",
    "        self.assertEqual(polynomial_term_derivative(5,87),(435,86))\n",
    "\n",
    "    def test_derivative_equation_test1(self):\n",
    "        # f(x) = 3                     \n",
    "        # d/dx = 0\n",
    "        self.assertEqual(polynomial_equation_derivative([(3,0)]),[(0,0)])\n",
    "\n",
    "    def test_derivative_equation_test2(self):\n",
    "        # f(x) = x [i.e. 1x^1]         \n",
    "        # d/dx = 1 [i.e. 1x^0]\n",
    "        self.assertEqual(polynomial_equation_derivative([(1,1)]),[(1,0)])\n",
    "\n",
    "    def test_derivative_equation_test3(self):\n",
    "        # f(x) = 3x^2\n",
    "        # d/dx = 6x [i.e. 6x^1]\n",
    "        self.assertEqual(polynomial_equation_derivative([(3,2)]),[(6,1)])\n",
    "  \n",
    "    def test_derivative_equation_test4(self):\n",
    "        # f(x) = (x + 8)^2 = x^2 + 16x + 64 = 1x^2 + 16x^1 + 64x^0\n",
    "        # d/dx = 2x + 16 [i.e. 2x^1 + 16x^0]\n",
    "        self.assertEqual(polynomial_equation_derivative([(1,2),(16,1),(64,0)]),[(2,1),(16,0),(0,0)])\n",
    "\n",
    "if __name__=='__main__':\n",
    "    unittest.main(argv=['first-arg-is-ignored'], exit=False)\n"
   ]
  },
  {
   "cell_type": "code",
   "execution_count": null,
   "metadata": {},
   "outputs": [],
   "source": []
  }
 ],
 "metadata": {
  "kernelspec": {
   "display_name": "Python 3",
   "language": "python",
   "name": "python3"
  },
  "language_info": {
   "codemirror_mode": {
    "name": "ipython",
    "version": 3
   },
   "file_extension": ".py",
   "mimetype": "text/x-python",
   "name": "python",
   "nbconvert_exporter": "python",
   "pygments_lexer": "ipython3",
   "version": "3.6.5"
  }
 },
 "nbformat": 4,
 "nbformat_minor": 1
}
