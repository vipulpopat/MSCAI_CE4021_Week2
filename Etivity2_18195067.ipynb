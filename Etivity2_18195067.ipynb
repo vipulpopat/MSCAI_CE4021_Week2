{
 "cells": [
  {
   "cell_type": "markdown",
   "metadata": {},
   "source": [
    "#Student Name: Abhijit Sinha\n",
    "#Student ID: 18195067"
   ]
  },
  {
   "cell_type": "markdown",
   "metadata": {
    "collapsed": true
   },
   "source": [
    "###### Problem: Calculate the derivative of a polynomial\n",
    "\n",
    "Solution: Calculate the derivative using the power rule i.e. k.x^n = n.k.x^(n-1). \n",
    "\n",
    "Create a function \"calc_deriv_poly\" which will compute the derivate of an input polynomial based on the power rule.\n",
    "The input argument will be a list of coefficient with the order of the polynomial. eg: 5x^2+4x+3 = [5,4,3]. The output is a polynomial represented as another list with [coefficient, exponent_order]\n",
    "\n",
    "Problem with this approach is:\n",
    "    1. Using a bigger expoenent value means using a big list of elements. Probably passing the coefficient and exponent will be better to avoid huge lists for large exponent values.\n",
    "    2. The code makes assumptions that elements passed are only positive integer numbers (string coefficient, negative, and fractional power values are not considered a valid input)\n",
    "    3. It's assumed in the implementation that constant value a=1."
   ]
  },
  {
   "cell_type": "code",
   "execution_count": 30,
   "metadata": {
    "collapsed": false
   },
   "outputs": [],
   "source": [
    "def calc_deriv_poly(poly):\n",
    "    \"\"\"Calculate the derivative of a polynomial.\"\"\"\n",
    "    deriv = []\n",
    "    # Working on the reverse list of polynomial exponents for easy calculation\n",
    "    for index, value in enumerate(poly[::-1]):\n",
    "        if index > 0:\n",
    "            coefficient = index * value  # find derivative by multiplying coefficient by exponent\n",
    "            exponent = index - 1         # reduce exponent by 1 as per power rule \n",
    "            deriv.append((coefficient, exponent))\n",
    "            \n",
    "    # Reversing the result to place higher order exponent first\n",
    "    return deriv[::-1]\n"
   ]
  },
  {
   "cell_type": "code",
   "execution_count": 31,
   "metadata": {
    "collapsed": false
   },
   "outputs": [
    {
     "name": "stdout",
     "output_type": "stream",
     "text": [
      "d/dx of f_x is [(6, 1), (0, 0)]\n",
      "d/dx of g_x is [(2, 1), (16, 0)]\n",
      "d/dx of h_x is [(4.0, 7), (0, 6), (0, 5), (0, 4), (0, 3), (3, 2), (0, 1), (0, 0)]\n",
      "d/dx of i_x is [(30, 5), (0, 4), (12, 3), (0, 2), (-16, 1), (0, 0)]\n",
      "d/dx of j_x is [(-54, 8), (0, 7), (0, 6), (0, 5), (0, 4), (0, 3), (0, 2), (0, 1), (0, 0)]\n",
      "d/dx of k_x is [(2, 1), (-6, 0)]\n"
     ]
    }
   ],
   "source": [
    "# Polynomial to be tested\n",
    "f_x = [3, 0, 0]  # f=3x^2\n",
    "g_x = [1, 16, 64]  # g=(x+8)^2 = x^2 + 16x + 64\n",
    "h_x = [0.5, 0, 0, 0, 0, 1, 0, 0, 0]  # h=ax^3 + 1/2 x^8 ; assuming a=1\n",
    "i_x = [5, 0, 3, 0, -8, 0, 1]  # i=5x^6 + 3x^4 - 8x^2 + 1\n",
    "j_x = [-6, 0, 0, 0, 0, 0, 0, 0, 0, 0]  # j=-6x^9\n",
    "k_x = [1, -6, 9]  # k=(x-3)^2 = x^2 - 6x + 9\n",
    "\n",
    "# Test the Polynomials\n",
    "print(\"d/dx of f_x is {}\".format(calc_deriv_poly(f_x)))\n",
    "print(\"d/dx of g_x is {}\".format(calc_deriv_poly(g_x)))\n",
    "print(\"d/dx of h_x is {}\".format(calc_deriv_poly(h_x)))\n",
    "print(\"d/dx of i_x is {}\".format(calc_deriv_poly(i_x)))\n",
    "print(\"d/dx of j_x is {}\".format(calc_deriv_poly(j_x)))\n",
    "print(\"d/dx of k_x is {}\".format(calc_deriv_poly(k_x)))"
   ]
  },
  {
   "cell_type": "code",
   "execution_count": 32,
   "metadata": {
    "collapsed": false
   },
   "outputs": [],
   "source": [
    "# Expected result for derivatives as (coefficiant, exponent)\n",
    "# Using Leibniz notation\n",
    "df_dx = [(6, 1), (0, 0)]\n",
    "dg_dx = [(2, 1), (16, 0)]\n",
    "dh_dx = [(4.0, 7), (0, 6), (0, 5), (0, 4), (0, 3), (3, 2), (0, 1), (0, 0)]\n",
    "di_dx = [(30, 5), (0, 4), (12, 3), (0, 2), (-16, 1), (0, 0)]\n",
    "dj_dx = [(-54, 8), (0, 7), (0, 6), (0, 5), (0, 4), (0, 3), (0, 2), (0, 1), (0, 0)]\n",
    "dk_dx = [(2, 1), (-6, 0)]\n",
    "\n",
    "# Validate test results\n",
    "assert(calc_deriv_poly(f_x) == df_dx)\n",
    "assert(calc_deriv_poly(g_x) == dg_dx)\n",
    "assert(calc_deriv_poly(h_x) == dh_dx)\n",
    "assert(calc_deriv_poly(i_x) == di_dx)\n",
    "assert(calc_deriv_poly(j_x) == dj_dx)\n",
    "assert(calc_deriv_poly(k_x) == dk_dx)"
   ]
  },
  {
   "cell_type": "code",
   "execution_count": null,
   "metadata": {
    "collapsed": true
   },
   "outputs": [],
   "source": []
  }
 ],
 "metadata": {
  "kernelspec": {
   "display_name": "Python 3.6",
   "language": "python",
   "name": "python3.6"
  },
  "language_info": {
   "codemirror_mode": {
    "name": "ipython",
    "version": 3
   },
   "file_extension": ".py",
   "mimetype": "text/x-python",
   "name": "python",
   "nbconvert_exporter": "python",
   "pygments_lexer": "ipython3",
   "version": "3.6.6"
  }
 },
 "nbformat": 4,
 "nbformat_minor": 0
}
