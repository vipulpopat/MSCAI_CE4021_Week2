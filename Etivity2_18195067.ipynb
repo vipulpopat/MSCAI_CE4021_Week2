{
 "cells": [
  {
   "cell_type": "markdown",
   "metadata": {},
   "source": [
    "#Student Name: Abhijit Sinha\n",
    "#Student ID: 18195067"
   ]
  },
  {
   "cell_type": "markdown",
   "metadata": {
    "collapsed": true
   },
   "source": [
    "###### Problem: Calculate the derivate of a polynomial\n",
    "\n",
    "Solution: Calculate the derivative using the chain rule i.e. k.x^n = n.k.x^(n-1). \n",
    "\n",
    "Create a funtion deriv_poly which will compute the derivate of a input polynomial based on the power rule.\n",
    "The input argument will be a list of coefficent with the order of the polynomial. eg: 5x^2+4x+3 = [5,4,3].\n",
    "\n",
    "Problem with this approach is:\n",
    "    1. Using a bigger coefficient value means using a big list of coefficients. A better approach will be the function accepting coefficient and power.\n",
    "    2. The code makes assumptions that elements passed are only numbers (no string, erroneous data)\n",
    "    3. The constant string value, like \"a\" is not handled. Assumed in the implementation that a=1.  "
   ]
  },
  {
   "cell_type": "code",
   "execution_count": 128,
   "metadata": {
    "collapsed": false
   },
   "outputs": [],
   "source": [
    "# Funtion to calculate the derivate of a polynomial\n",
    "def deriv_poly(poly):\n",
    "    derv = []\n",
    "    # Working on the reverse list of polynomial exponents for easy calculation\n",
    "    for index, value in enumerate(poly[::-1]):\n",
    "        if (index > 0):\n",
    "            derv.append( value * index )\n",
    "    # Reversing the result to place higher order exponent first\n",
    "    return derv[::-1]\n"
   ]
  },
  {
   "cell_type": "code",
   "execution_count": 129,
   "metadata": {
    "collapsed": false
   },
   "outputs": [
    {
     "name": "stdout",
     "output_type": "stream",
     "text": [
      "Derivate of f_x is [6, 0]\n",
      "Derivate of g_x is [2, 16]\n",
      "Derivate of h_x is [4.0, 0, 0, 0, 0, 3, 0, 0]\n"
     ]
    }
   ],
   "source": [
    "# Polynomial to be tested\n",
    "f_x = [3, 0, 0]   # f=3x^2\n",
    "g_x = [1, 16, 64] # g=x^2 +16x +64\n",
    "h_x = [0.5, 0, 0, 0, 0, 1, 0, 0, 0]  # h=ax^3+1/2 x^8 ; making, a=1\n",
    "\n",
    "# Test the Polynomials\n",
    "print(\"Derivate of f_x is {}\".format(deriv_poly(f_x)))\n",
    "print(\"Derivate of g_x is {}\".format(deriv_poly(g_x))) \n",
    "print(\"Derivate of h_x is {}\".format(deriv_poly(h_x)))\n"
   ]
  },
  {
   "cell_type": "code",
   "execution_count": null,
   "metadata": {
    "collapsed": false
   },
   "outputs": [],
   "source": []
  },
  {
   "cell_type": "code",
   "execution_count": null,
   "metadata": {
    "collapsed": true
   },
   "outputs": [],
   "source": []
  }
 ],
 "metadata": {
  "kernelspec": {
   "display_name": "Python 3.6",
   "language": "python",
   "name": "python3.6"
  },
  "language_info": {
   "codemirror_mode": {
    "name": "ipython",
    "version": 3
   },
   "file_extension": ".py",
   "mimetype": "text/x-python",
   "name": "python",
   "nbconvert_exporter": "python",
   "pygments_lexer": "ipython3",
   "version": "3.6.6"
  }
 },
 "nbformat": 4,
 "nbformat_minor": 0
}
