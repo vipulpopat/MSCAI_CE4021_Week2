{
 "cells": [
  {
   "cell_type": "markdown",
   "metadata": {},
   "source": [
    "#Student Name: Aidan Keeshan\n",
    "#Student ID:   18200117"
   ]
  },
  {
   "cell_type": "code",
   "execution_count": 62,
   "metadata": {},
   "outputs": [
    {
     "name": "stdout",
     "output_type": "stream",
     "text": [
      "----------------------------------------\n",
      "3x^2 \n",
      "6x \n",
      "----------------------------------------\n",
      "----------------------------------------\n",
      "1x^2 +16x +64 \n",
      "2x +16 \n",
      "----------------------------------------\n",
      "----------------------------------------\n",
      "1ax^3 +0.5x^8 \n",
      "3ax^2 +4.0x^7 \n",
      "----------------------------------------\n",
      "----------------------------------------\n",
      "1x^3a +0.5x^8 \n",
      "1x^3 \n",
      "----------------------------------------\n",
      "----------------------------------------\n",
      "1x^501 +3x^7 -0.5x^6 +1x^5 +2x^3 +3x^2 -1 \n",
      "501x^500 +21x^6 -3.0x^5 +5x^4 +6x^2 +6x \n",
      "----------------------------------------\n"
     ]
    }
   ],
   "source": [
    "# Convert Derivatives.doc to math formula\n",
    "f = \"3x^2\"\n",
    "# Convert formula into poly list of form [Numerical Constant,Power,Non-Numerical Constant]\n",
    "f_poly = [[3,2,'']]\n",
    "# Expanded (x + 8)^2\n",
    "# Forumla and and expansion\n",
    "# https://www.symbolab.com/solver/expand-calculator/expand%20%5Cleft(x%2B8%5Cright)%5E%7B2%7D\n",
    "g = \"x^2+16x+64\"\n",
    "g_poly = [[1,2,''],[16,1,''],[64,0,'']]\n",
    "\n",
    "h = \"ax^3 + 0.5x^8\"\n",
    "h_ofx_poly = [[1,3,'a'],[0.5,8,'']]\n",
    "h_ofa_poly = [[1,1,'x^3'],[0.5,0,'x^8']]\n",
    "\n",
    "k = \"x^501 + 3x^7  - 0.5x^6 + x^5 +2x^3 + 3x^2 -1\"\n",
    "k_poly = [[1,501,''],[3,7,''],[-0.5,6,''],[1,5,''],[2,3,''],[3,2,''],[-1,0,'']]\n",
    "\n",
    "def power_rule(poly_list):\n",
    "    poly_return = []\n",
    "    for poly in poly_list:\n",
    "        if poly[1] == 0:\n",
    "            continue\n",
    "        elif poly[1] > 0:\n",
    "            poly[0] = poly[0]*poly[1]\n",
    "            poly[1] = poly[1] - 1\n",
    "            poly_return.append(poly)\n",
    "        else:\n",
    "            print (\"Error in input:\" + poly)\n",
    "            quit()\n",
    "    return poly_return\n",
    "\n",
    "def print_poly(poly_list,with_respet_to):\n",
    "    for index in range(len(poly_list)):\n",
    "        power_str = ''\n",
    "        if index == 0:\n",
    "            sign = ''\n",
    "        elif poly_list[index][0]< 0:\n",
    "            sign = ''\n",
    "        else:\n",
    "            sign = '+'\n",
    "        if poly_list[index][1] == 1:\n",
    "            power_str = with_respet_to\n",
    "        elif poly_list[index][1] > 1:\n",
    "            power_str = with_respet_to+'^'+str(poly_list[index][1])\n",
    "        print(sign+str(poly_list[index][0])+poly_list[index][2]+power_str, end=' ', flush=True)\n",
    "    print('')\n",
    "\n",
    "def test_input(poly_list,with_respet_to):\n",
    "    print('-'*40)\n",
    "    print_poly(poly_list,with_respet_to)\n",
    "    print_poly(power_rule(poly_list),with_respet_to)\n",
    "    print('-'*40)\n",
    "\n",
    "    \n",
    "test_input(f_poly,\"x\")\n",
    "test_input(g_poly,\"x\")\n",
    "test_input(h_ofx_poly,\"x\")\n",
    "test_input(h_ofa_poly,\"a\")\n",
    "test_input(k_poly,\"x\")"
   ]
  },
  {
   "cell_type": "code",
   "execution_count": 64,
   "metadata": {},
   "outputs": [
    {
     "name": "stdout",
     "output_type": "stream",
     "text": [
      "Valid with respect to: x\n",
      "Valid with equation: x^2+16x+64\n",
      "[['+', 'x^2'], ['+', '16x'], ['+', '64']]\n"
     ]
    },
    {
     "ename": "ValueError",
     "evalue": "ERROR with respect to: X",
     "output_type": "error",
     "traceback": [
      "\u001b[0;31m---------------------------------------------------------------------------\u001b[0m",
      "\u001b[0;31mValueError\u001b[0m                                Traceback (most recent call last)",
      "\u001b[0;32m<ipython-input-64-738a390e7274>\u001b[0m in \u001b[0;36m<module>\u001b[0;34m()\u001b[0m\n\u001b[1;32m     31\u001b[0m \u001b[0;34m\u001b[0m\u001b[0m\n\u001b[1;32m     32\u001b[0m \u001b[0mparse_equation\u001b[0m\u001b[0;34m(\u001b[0m\u001b[0mg\u001b[0m\u001b[0;34m,\u001b[0m\u001b[0;34m\"x\"\u001b[0m\u001b[0;34m)\u001b[0m\u001b[0;34m\u001b[0m\u001b[0m\n\u001b[0;32m---> 33\u001b[0;31m \u001b[0mparse_equation\u001b[0m\u001b[0;34m(\u001b[0m\u001b[0mg\u001b[0m\u001b[0;34m,\u001b[0m\u001b[0;34m\"X\"\u001b[0m\u001b[0;34m)\u001b[0m\u001b[0;34m\u001b[0m\u001b[0m\n\u001b[0m",
      "\u001b[0;32m<ipython-input-64-738a390e7274>\u001b[0m in \u001b[0;36mparse_equation\u001b[0;34m(equation, with_respet_to)\u001b[0m\n\u001b[1;32m      5\u001b[0m         \u001b[0mprint\u001b[0m \u001b[0;34m(\u001b[0m\u001b[0;34m\"Valid with respect to: \"\u001b[0m\u001b[0;34m+\u001b[0m\u001b[0mwith_respet_to\u001b[0m\u001b[0;34m)\u001b[0m\u001b[0;34m\u001b[0m\u001b[0m\n\u001b[1;32m      6\u001b[0m     \u001b[0;32melse\u001b[0m\u001b[0;34m:\u001b[0m\u001b[0;34m\u001b[0m\u001b[0m\n\u001b[0;32m----> 7\u001b[0;31m         \u001b[0;32mraise\u001b[0m \u001b[0mValueError\u001b[0m\u001b[0;34m(\u001b[0m\u001b[0;34m\"ERROR with respect to: \"\u001b[0m\u001b[0;34m+\u001b[0m\u001b[0mwith_respet_to\u001b[0m\u001b[0;34m)\u001b[0m\u001b[0;34m\u001b[0m\u001b[0m\n\u001b[0m\u001b[1;32m      8\u001b[0m     \u001b[0;32mif\u001b[0m \u001b[0mre\u001b[0m\u001b[0;34m.\u001b[0m\u001b[0mmatch\u001b[0m\u001b[0;34m(\u001b[0m\u001b[0;34m\"^[0-9a-z|\\s|\\.|-|+|^]*$\"\u001b[0m\u001b[0;34m,\u001b[0m \u001b[0mequation\u001b[0m\u001b[0;34m)\u001b[0m\u001b[0;34m:\u001b[0m\u001b[0;34m\u001b[0m\u001b[0m\n\u001b[1;32m      9\u001b[0m         \u001b[0mprint\u001b[0m \u001b[0;34m(\u001b[0m\u001b[0;34m\"Valid with equation: \"\u001b[0m\u001b[0;34m+\u001b[0m\u001b[0mequation\u001b[0m\u001b[0;34m)\u001b[0m\u001b[0;34m\u001b[0m\u001b[0m\n",
      "\u001b[0;31mValueError\u001b[0m: ERROR with respect to: X"
     ]
    }
   ],
   "source": [
    "import re\n",
    "\n",
    "def parse_equation(equation,with_respet_to):\n",
    "    if re.match(\"^[a-z]$\", with_respet_to):\n",
    "        print (\"Valid with respect to: \"+with_respet_to)\n",
    "    else:\n",
    "        raise ValueError(\"ERROR with respect to: \"+with_respet_to)\n",
    "    if re.match(\"^[0-9a-z|\\s|\\.|-|+|^]*$\", equation):\n",
    "        print (\"Valid with equation: \"+equation)\n",
    "    else:\n",
    "        raise ValueError(\"ERROR equation: \"+with_respet_to)\n",
    "    equation = equation.replace(\" \",\"\")\n",
    "    poly_char = []\n",
    "    accumalated_string = ''\n",
    "    sign = '+'\n",
    "    for character in equation:\n",
    "        if re.match(\"^[-|+]$\", character):\n",
    "            if len(accumalated_string) > 0:\n",
    "                poly_char.append([sign,accumalated_string])\n",
    "                accumalated_string = ''\n",
    "            sign = character\n",
    "        else:\n",
    "            accumalated_string += character\n",
    "    poly_char.append([sign,accumalated_string])\n",
    "    print (poly_char)\n",
    "    #poly_list = []\n",
    "    #for poly_str in poly_char:\n",
    "    #    m = re.match( r'(\\d+)', poly_str[1])\n",
    "    #    print (m.group(0))\n",
    "        \n",
    "        \n",
    "parse_equation(g,\"x\") \n",
    "parse_equation(g,\"X\")"
   ]
  },
  {
   "cell_type": "code",
   "execution_count": null,
   "metadata": {},
   "outputs": [],
   "source": []
  }
 ],
 "metadata": {
  "kernelspec": {
   "display_name": "Python 3",
   "language": "python",
   "name": "python3"
  },
  "language_info": {
   "codemirror_mode": {
    "name": "ipython",
    "version": 3
   },
   "file_extension": ".py",
   "mimetype": "text/x-python",
   "name": "python",
   "nbconvert_exporter": "python",
   "pygments_lexer": "ipython3",
   "version": "3.6.5"
  }
 },
 "nbformat": 4,
 "nbformat_minor": 2
}
