{
 "cells": [
  {
   "cell_type": "markdown",
   "metadata": {},
   "source": [
    "#Student Name: Garret Molloy\n",
    "#Student ID: 9021906"
   ]
  },
  {
   "cell_type": "code",
   "execution_count": 5,
   "metadata": {},
   "outputs": [
    {
     "name": "stdout",
     "output_type": "stream",
     "text": [
      "f(x) = \n",
      "\t3x^2 \n",
      "Derivative: df/dx = \n",
      "\t6x \n",
      "\n",
      "g(x) = \n",
      "\tx^2 +16x +64 \n",
      "Derivative: dg/dx = \n",
      "\t2x +16 \n",
      "\n",
      "h(x) = \n",
      "\tax^3 +0.5x^8 \n",
      "Derivative: dh/dx = \n",
      "\t3ax^2 +4.0x^7 \n",
      "\n",
      "k(x) = \n",
      "\tx^501 +3x^7 -0.5x^6 +x^5 +2x^3 +3x^2 -1 \n",
      "Derivative: dk/dx = \n",
      "\t501x^500 +21x^6 -3.0x^5 +5x^4 +6x^2 +6x \n",
      "\n"
     ]
    }
   ],
   "source": [
    "def differentiate (polynomial):\n",
    "    derivative = []\n",
    "    for part in polynomial:\n",
    "        if(part[\"power\"]!=0):\n",
    "            derivative.append({\n",
    "                    \"coefficient\":part[\"coefficient\"]*part[\"power\"], \n",
    "                    \"other_variable\":part[\"other_variable\"], \n",
    "                    \"power\":part[\"power\"] - 1})\n",
    "    return derivative\n",
    "\n",
    "def printPolynomial(polynomial):\n",
    "    # print(\"  debug: {0}\".format(polynomial))\n",
    "    text = \"\\t\"\n",
    "    i = 0\n",
    "    for part in polynomial:\n",
    "        i += 1\n",
    "        if (i > 1 and part[\"coefficient\"]>0): #if negative numer, the minus sign will be included in the variable\n",
    "            text += \"+\"\n",
    "        if(part[\"coefficient\"]!=0): #if coefficient = 0 then the element is empty\n",
    "            if(part[\"coefficient\"]!=1):\n",
    "                text += (\"{0}\".format(part[\"coefficient\"]) )             \n",
    "            if(part[\"other_variable\"]!=\"\"):\n",
    "                text += (\"{0}\".format(part[\"other_variable\"]) ) \n",
    "            if(part[\"power\"] !=0):\n",
    "                text += (\"x\")\n",
    "                if(part[\"power\"] >1):\n",
    "                    text +=(\"^{0}\".format(part[\"power\"]) )\n",
    "            text += \" \"\n",
    "\n",
    "    print(text)\n",
    "\n",
    "def printDerivative(function, polynomial):\n",
    "    print(\"{0}(x) = \".format(function))\n",
    "    printPolynomial(polynomial)\n",
    "    print(\"Derivative: d{0}/dx = \".format(function))\n",
    "    printPolynomial(differentiate(my_polynomial))\n",
    "    print(\"\")\n",
    "\n",
    "\n",
    "my_polynomial = [ {\"coefficient\":3,\"other_variable\":\"\", \"power\":2}]\n",
    "printDerivative(\"f\", my_polynomial)\n",
    "         \n",
    "my_polynomial = [ \n",
    "        {\"coefficient\":1,\"other_variable\":\"\", \"power\":2}, \n",
    "        {\"coefficient\":16,\"other_variable\":\"\", \"power\":1}, \n",
    "        {\"coefficient\":64,\"other_variable\":\"\", \"power\":0}]\n",
    "printDerivative(\"g\", my_polynomial)\n",
    "\n",
    "\n",
    "         \n",
    "my_polynomial = [ {\"coefficient\":1,\"other_variable\":\"a\", \"power\":3},\n",
    "                 {\"coefficient\":0.5,\"other_variable\":\"\", \"power\":8}]\n",
    "printDerivative(\"h\", my_polynomial)\n",
    "\n",
    "\n",
    "         \n",
    "my_polynomial = [ \n",
    "        {\"coefficient\":1,\"other_variable\":\"\", \"power\":501},\n",
    "        {\"coefficient\":3,\"other_variable\":\"\", \"power\":7},\n",
    "        {\"coefficient\":-0.5,\"other_variable\":\"\", \"power\":6},\n",
    "        {\"coefficient\":1,\"other_variable\":\"\", \"power\":5},\n",
    "        {\"coefficient\":2,\"other_variable\":\"\", \"power\":3},\n",
    "        {\"coefficient\":3,\"other_variable\":\"\", \"power\":2},\n",
    "        {\"coefficient\":-1,\"other_variable\":\"\", \"power\":0}]\n",
    "printDerivative(\"k\", my_polynomial)\n",
    "\n",
    "         \n"
   ]
  },
  {
   "cell_type": "code",
   "execution_count": null,
   "metadata": {},
   "outputs": [],
   "source": []
  }
 ],
 "metadata": {
  "kernelspec": {
   "display_name": "Python 3",
   "language": "python",
   "name": "python3"
  },
  "language_info": {
   "codemirror_mode": {
    "name": "ipython",
    "version": 3
   },
   "file_extension": ".py",
   "mimetype": "text/x-python",
   "name": "python",
   "nbconvert_exporter": "python",
   "pygments_lexer": "ipython3",
   "version": "3.7.0"
  }
 },
 "nbformat": 4,
 "nbformat_minor": 1
}
