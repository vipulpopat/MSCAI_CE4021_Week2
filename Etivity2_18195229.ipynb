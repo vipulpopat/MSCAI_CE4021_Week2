{
 "cells": [
  {
   "cell_type": "markdown",
   "metadata": {},
   "source": [
    "#Student Name: Gerard Kerley\n",
    "#Student ID: 18195229"
   ]
  },
  {
   "cell_type": "code",
   "execution_count": null,
   "metadata": {
    "collapsed": true
   },
   "outputs": [],
   "source": [
    "def get_derivative(coefficients):\n",
    "    \"\"\"Calculate derivate of equation where the coefficients are passed as a list.\n",
    "    The exponent on x is implied by the position in the list from greatest to least.\n",
    "    Args:\n",
    "        param1 (list of ints): list of coefficients\n",
    "    Return:\n",
    "        derivatives: a list of tuples\n",
    "    \"\"\"\n",
    "    coefficients.reverse()\n",
    "    derivatives = []\n",
    "    \n",
    "    for index, coefficient in enumerate(coefficients):\n",
    "        # multiply the coefficient by the exponent\n",
    "        coefficient = (coefficients[index]) * index\n",
    "        # reduce the exponent by one\n",
    "        exponent = index - 1\n",
    "        # add the result to the derivatives list\n",
    "        derivatives.append((coefficient, exponent))\n",
    "    \n",
    "    # reverse the new list to return to original order\n",
    "    derivatives.reverse()\n",
    "    # discard the last element as it derives to zero\n",
    "    derivatives.pop()\n",
    "\n",
    "    return derivatives"
   ]
  },
  {
   "cell_type": "code",
   "execution_count": 1,
   "metadata": {
    "collapsed": false
   },
   "outputs": [
    {
     "name": "stdout",
     "output_type": "stream",
     "text": [
      "[(15, 2), (14, 1), (3, 0)]\n",
      "[(8, 3), (-18, 2), (6, 1), (8, 0)]\n",
      "[(2, 1), (16, 0)]\n"
     ]
    }
   ],
   "source": [
    "# TESTS\n",
    "# 5x^3+7x^2+3x+6 -> [5,7,3,6]\n",
    "print(get_derivative([5,7,3,6]))\n",
    "# expected answer 15x^2 + 14x + 3\n",
    "\n",
    "# 2x^4-6x^3+3x^2+8x+9 as [2,-6,3,8,9]\n",
    "print(get_derivative([2,-6,3,8,9]))\n",
    "# expected answer 8x^3-18x^2+6x+8\n",
    "\n",
    "# x^2 + 16x + 64 \n",
    "print(get_derivative([1, 16, 64]))\n",
    "# expected answer 2x+16x"
   ]
  }
 ],
 "metadata": {
  "kernelspec": {
   "display_name": "Python 3.6",
   "language": "python",
   "name": "python3.6"
  },
  "language_info": {
   "codemirror_mode": {
    "name": "ipython",
    "version": 3
   },
   "file_extension": ".py",
   "mimetype": "text/x-python",
   "name": "python",
   "nbconvert_exporter": "python",
   "pygments_lexer": "ipython3",
   "version": "3.6.6"
  }
 },
 "nbformat": 4,
 "nbformat_minor": 0
}
