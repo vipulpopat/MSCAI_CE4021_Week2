{
 "cells": [
  {
   "cell_type": "markdown",
   "metadata": {},
   "source": [
    "**Student Name: Mark Murnane **\n",
    "\n",
    "**Student ID: 18195326 **"
   ]
  },
  {
   "cell_type": "markdown",
   "metadata": {},
   "source": [
    "*** Problem Description ***\n",
    "\n",
    "Calculation of derivative of a polynomial function with one variable.\n",
    "\n",
    "\n",
    "**** Approach ****\n",
    "\n",
    "To represent a polynomial function it will be necessary to take the equation as an input string.  This will allow the correct representation of derivatives the include + and - operators.\n",
    "\n",
    "The first group of functions are _helper_ functions to assist with parsing, determine if a string value represents a number, and to properly represent a valid number as a string.\n",
    "\n",
    "The `parse_term` function requires some modification.  It can handle complex coefficients (e.g. 5ax^3 w.r.t. x) but not situations where there is no power, or the coefficient has a power (e.g. 5ax^3 w.r.t. a)."
   ]
  },
  {
   "cell_type": "code",
   "execution_count": 1,
   "metadata": {},
   "outputs": [],
   "source": [
    "import re\n",
    "\n",
    "def parse_term (equation_term, differential):\n",
    "    \"\"\"Parses a string with an algebraic term (e.g. 5x^2) and returns the coefficient and exponent parts of the term.\n",
    "    \n",
    "    If multiple variables are present in the term, and they have exponents, they should be separated using *.  This\n",
    "    allows for multiple exponents to be present in the term.\n",
    "    \n",
    "    Args: \n",
    "        equation_term (str):    A string with an algebraic term (e.g. 5x^2)\n",
    "        differential (str):     A single character identifying the variable of the term being differentiated.\n",
    "        \n",
    "    Returns:\n",
    "        (tuple) The coefficient and exponent of the<differential part of the term\"\"\"\n",
    "    \n",
    "    # TODO: Some test assesertions and parameter checking       \n",
    "    # TODO: Add capability for other differentials.  e.g. dy/da where y = ax^3\n",
    "    \n",
    "    if differential not in equation_term:\n",
    "        coefficient = equation_term\n",
    "        exponent = 0\n",
    "    else:\n",
    "        components = equation_term.split(differential)\n",
    "        coefficient = components[0]\n",
    "        exponent = components[1][1:]            # Strip off the caret\n",
    "    \n",
    "    return (coefficient, int(exponent))  "
   ]
  },
  {
   "cell_type": "markdown",
   "metadata": {},
   "source": [
    "Numerical helpers"
   ]
  },
  {
   "cell_type": "code",
   "execution_count": 2,
   "metadata": {},
   "outputs": [],
   "source": [
    "def is_number(value):\n",
    "    \n",
    "    \"\"\" Simple function to determine if a string value is a number (integer or float).\n",
    "    \n",
    "    Args:\n",
    "        value (str)    String value to be tested to see if it is numeric\n",
    "        \n",
    "    Returns:\n",
    "        bool:          True if value is a number.  False otherwise\n",
    "    \"\"\"\n",
    "    \n",
    "    try:\n",
    "        float(value)\n",
    "    except ValueError:\n",
    "        return False\n",
    "    \n",
    "    return True\n",
    "    \n",
    "    \n",
    "def number_to_string (value):\n",
    "     \n",
    "    \"\"\" Simple function that takes a string representing a number and formats it for display.\n",
    "    \n",
    "    Integer values are returned with no decimal place.  Float values are returned rounded to 2 decimal places (no trailing zeroes).\n",
    "    \n",
    "    Args:\n",
    "        value (str)        Value representing a number\n",
    "        \n",
    "    Returns:\n",
    "        str                Formatted string value, or empty string if the input is not a number.\n",
    "    \"\"\"\n",
    "     \n",
    "    number_string = ''\n",
    "     \n",
    "    if is_number(value):\n",
    "        val = float(value)\n",
    "        if val.is_integer():\n",
    "            number_string = str(int(val))\n",
    "        else:\n",
    "            number_string = str(round(val, 2))\n",
    "            \n",
    "    return number_string"
   ]
  },
  {
   "cell_type": "markdown",
   "metadata": {},
   "source": [
    "This function utilises the helpers to evaluate a single algebraic term from an equation (i.e. one of the operands).\n",
    "\n",
    "The input and return values are strings, to represent the input and return operands properly.  Other data structures might be more appropriate, but are beyond the scope of this exercise."
   ]
  },
  {
   "cell_type": "code",
   "execution_count": 3,
   "metadata": {},
   "outputs": [],
   "source": [
    "def apply_power_rule(equation_term, differential):\n",
    "    \"\"\" Applies the Differential Calculus Power Rule to an algebraic term, e.g. f'(5x^2) = 10x.\n",
    "    \n",
    "    Args:\n",
    "        equation_term (str)    The algebraic term (single equation element) for which the derivative is to be calculated.\n",
    "        differential (str)     The variable which derivative will be calculated for\n",
    "        \n",
    "    Returns:\n",
    "        str                    The first derivative of term with respect to the differential\n",
    "    \"\"\"\n",
    "    \n",
    "    components = parse_term(equation_term, differential)\n",
    "    \n",
    "    coefficient = ''\n",
    "    exponent = components[1]    \n",
    "    \n",
    "    # Handle the different possibilities\n",
    "    #  a) No existing coefficient\n",
    "    #  b) A numeric co-efficient\n",
    "    #  c) A composite co-efficient\n",
    "    if not components[0]:\n",
    "        coefficient = exponent    \n",
    "    elif is_number(components[0]):\n",
    "        coefficient = number_to_string(float(components[0]) * exponent)\n",
    "    else:\n",
    "        numeric_coefficient = 1.0\n",
    "\n",
    "        parts = re.split(\"([a-z]+)\", components[0])\n",
    "        for coeff_part in parts:                \n",
    "            if is_number(coeff_part):\n",
    "                numeric_coefficient = float(coeff_part) * exponent\n",
    "            else:\n",
    "                coefficient += coeff_part\n",
    "             \n",
    "        # If there were no constants in the coefficient then still need to add in the (exponent - 1) \n",
    "        if numeric_coefficient == 1.0:\n",
    "            numeric_coefficient *= exponent\n",
    "            \n",
    "        coefficient = number_to_string(numeric_coefficient) + coefficient\n",
    "                                \n",
    "    exponent -= 1\n",
    "    \n",
    "    return (coefficient, exponent)\n"
   ]
  },
  {
   "cell_type": "markdown",
   "metadata": {},
   "source": [
    "The `differentiate_term` function does a quick sanity check on the input term, to see if its essentially a constant.  \n",
    "\n",
    "If not it simply applies the power rule and pretty prints the result.\n",
    "\n",
    "The intention is to be able to handle additional rules like the Chain Rule."
   ]
  },
  {
   "cell_type": "code",
   "execution_count": 4,
   "metadata": {},
   "outputs": [],
   "source": [
    "def differentiate_term(equation_term, differential):\n",
    "    \n",
    "    \"\"\" Calculates the first derivative of an algebraic term, e.g. f'(5x^2) = 10x.\n",
    "    \n",
    "    This function currently applies the Power Rule only.\n",
    "    Future extension will be added to handle the Chain Rule also.\n",
    "    \n",
    "    Args:\n",
    "        equation_term (str)    The algebraic term (single equation element) for which the derivative is to be calculated.\n",
    "        differential (str)     The variable which derivative will be calculated for\n",
    "        \n",
    "    Returns:\n",
    "        str                    The first derivative of term with respect to the differential\n",
    "    \"\"\"\n",
    "    \n",
    "    # If the differential is not here, this resolves to a constant which is always 0\n",
    "    if differential not in equation_term:\n",
    "        return (\"0\")\n",
    "    \n",
    "    diff_coeff, diff_exp = apply_power_rule (equation_term, differential)\n",
    "    \n",
    "    diff_term = ''\n",
    "    \n",
    "    if diff_exp == 0:\n",
    "        diff_term = \"{0}\".format(diff_coeff)\n",
    "    if diff_exp == 1:\n",
    "        diff_term = \"{0}{1}\".format(diff_coeff, differential)\n",
    "    else:\n",
    "        diff_term = \"{0}{1}^{2}\".format(diff_coeff, differential, diff_exp)\n",
    "    \n",
    "    return diff_term"
   ]
  },
  {
   "cell_type": "markdown",
   "metadata": {},
   "source": [
    "The `differentiate_polynomial` function is the final piece of the puzzle.  It takes the whole equation, breaks it into parts and gather the first derivative of each term.  It combines these with the operands to return the first derivative of the input polynomial."
   ]
  },
  {
   "cell_type": "code",
   "execution_count": 5,
   "metadata": {},
   "outputs": [],
   "source": [
    "def differentiate_polynomial (equation, differential):\n",
    "    \n",
    "    \"\"\" Calculates the first derivative of a simple polynomial equation. \n",
    "    \n",
    "    The function handles basic operators such as +, -, / for division and * for multiplication.\n",
    "    \n",
    "    Powers should be added using the '^' symbol, e.g. x^3 is x-cubed.\n",
    "    \n",
    "   \n",
    "    Args:\n",
    "        equation (str)    An algebraic equation for which the derivative is to be calculated.\n",
    "        differential (str)     The variable which derivative will be calculated for\n",
    "        \n",
    "    Returns:\n",
    "        str                    The first derivative of the equation with respect to the differential\n",
    "    \"\"\"\n",
    "    \n",
    "    operators = re.compile(\"(\\*|\\/|\\+|\\-)\")\n",
    "      \n",
    "    # Iterate over the equation\n",
    "    equation_terms = re.split(operators, equation)\n",
    "    \n",
    "    diff_equation = ''\n",
    "        \n",
    "    for term in equation_terms:\n",
    "        if re.match(operators, term):\n",
    "            diff_equation += f' {term} '\n",
    "        else:\n",
    "            diff_equation += differentiate_term(term.strip(), differential)\n",
    "    \n",
    "    return diff_equation"
   ]
  },
  {
   "cell_type": "markdown",
   "metadata": {},
   "source": [
    "Now for some simple tests from the equations in the Module Material."
   ]
  },
  {
   "cell_type": "code",
   "execution_count": 9,
   "metadata": {},
   "outputs": [
    {
     "name": "stdout",
     "output_type": "stream",
     "text": [
      "501x^500 + 21x^6 - 3x^5 + 5x^4 + 6x^2 + 6x - 0\n",
      "6x\n",
      "3ax^2 + 4x^7\n",
      "15ax^2 + 3.5x^6 - 8bx\n",
      "0\n"
     ]
    }
   ],
   "source": [
    "print(differentiate_polynomial (\"x^501 + 3x^7 - 0.5x^6 + x^5 + 2x^3 + 3x^2 - 1\", 'x'))\n",
    "print(differentiate_polynomial (\"3x^2\", 'x'))\n",
    "print(differentiate_polynomial (\"ax^3 + 0.5x^8\", 'x'))\n",
    "print(differentiate_polynomial (\"5ax^3 + 0.5x^7 - 4bx^2\", 'x'))\n",
    "print(differentiate_polynomial (\"6x\", 'x'))\n",
    "print(differentiate_polynomial (\"16\", 'x'))"
   ]
  }
 ],
 "metadata": {
  "kernelspec": {
   "display_name": "Python 3",
   "language": "python",
   "name": "python3"
  },
  "language_info": {
   "codemirror_mode": {
    "name": "ipython",
    "version": 3
   },
   "file_extension": ".py",
   "mimetype": "text/x-python",
   "name": "python",
   "nbconvert_exporter": "python",
   "pygments_lexer": "ipython3",
   "version": "3.6.5"
  }
 },
 "nbformat": 4,
 "nbformat_minor": 1
}
